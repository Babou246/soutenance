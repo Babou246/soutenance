{
 "cells": [
  {
   "cell_type": "code",
   "execution_count": 17,
   "metadata": {},
   "outputs": [
    {
     "name": "stdout",
     "output_type": "stream",
     "text": [
      "Requirement already satisfied: elasticsearch in ./backend/lib/python3.10/site-packages (8.6.2)\n",
      "Requirement already satisfied: elastic-transport<9,>=8 in ./backend/lib/python3.10/site-packages (from elasticsearch) (8.4.0)\n",
      "Requirement already satisfied: certifi in ./backend/lib/python3.10/site-packages (from elastic-transport<9,>=8->elasticsearch) (2022.12.7)\n",
      "Requirement already satisfied: urllib3<2,>=1.26.2 in ./backend/lib/python3.10/site-packages (from elastic-transport<9,>=8->elasticsearch) (1.26.14)\n"
     ]
    }
   ],
   "source": [
    "!pip install elasticsearch"
   ]
  },
  {
   "cell_type": "code",
   "execution_count": 18,
   "metadata": {},
   "outputs": [],
   "source": [
    "from elasticsearch import Elasticsearch\n",
    "\n",
    "# Configurer la connexion à Elasticsearch\n",
    "es = Elasticsearch([{'host': 'localhost', 'port': 9200,'scheme':'http'}])"
   ]
  },
  {
   "cell_type": "code",
   "execution_count": 19,
   "metadata": {},
   "outputs": [
    {
     "name": "stderr",
     "output_type": "stream",
     "text": [
      "/tmp/ipykernel_27387/2877622670.py:1: DeprecationWarning: The 'body' parameter is deprecated and will be removed in a future version. Instead use individual parameters.\n",
      "  res = es.search(index='excel-data', body={'query': {'match_all': {}},'size':10000})\n",
      "/tmp/ipykernel_27387/2877622670.py:1: ElasticsearchWarning: Elasticsearch built-in security features are not enabled. Without authentication, your cluster could be accessible to anyone. See https://www.elastic.co/guide/en/elasticsearch/reference/7.15/security-minimal-setup.html to enable security.\n",
      "  res = es.search(index='excel-data', body={'query': {'match_all': {}},'size':10000})\n"
     ]
    }
   ],
   "source": [
    "res = es.search(index='excel-data', body={'query': {'match_all': {}},'size':10000})\n",
    "hits = res['hits']['hits']\n",
    "count = [hits[i]['_source']['Article'] for i in range(len(hits)-1)]\n",
    "\n",
    "unique = list(dict.fromkeys(count))\n"
   ]
  },
  {
   "cell_type": "code",
   "execution_count": 20,
   "metadata": {},
   "outputs": [
    {
     "name": "stdout",
     "output_type": "stream",
     "text": [
      "===========> 4\n"
     ]
    }
   ],
   "source": [
    "hits = res['hits']['hits']\n",
    "count1 = [hits[i]['_source']['Client'] for i in range(len(hits)-1)]\n",
    "# count = [hits[i]['_source']['Article'] for i in range(len(hits)-1)]\n",
    "# count = [hits[i]['_source']['Article'] for i in range(len(hits)-1)]\n",
    "\n",
    "\n",
    "unique = list(dict.fromkeys(count))\n",
    "client = list(dict.fromkeys(count1))\n",
    "unique=len(unique)\n",
    "print('===========>',unique)\n",
    "# client=len(unique1)\n",
    "# print('???????????????????',client)"
   ]
  },
  {
   "cell_type": "code",
   "execution_count": 21,
   "metadata": {},
   "outputs": [
    {
     "data": {
      "text/plain": [
       "1259916.88"
      ]
     },
     "execution_count": 21,
     "metadata": {},
     "output_type": "execute_result"
    }
   ],
   "source": [
    "count1 = [hits[i]['_source']['Chiffre d\\'affaire'] for i in range(len(hits)-1)]\n",
    "count1\n",
    "entiers = list(map(float, map(float,map(float, [x.replace(',', '.') for x in count1]))))\n",
    "round(sum(entiers),2)"
   ]
  },
  {
   "cell_type": "code",
   "execution_count": 22,
   "metadata": {},
   "outputs": [],
   "source": [
    "# from elasticsearch import Elasticsearch\n",
    "\n",
    "# # Créer une instance Elasticsearch\n",
    "# # es = Elasticsearch()\n",
    "\n",
    "# # Index de test avec un champ de type completion appelé \"suggestions\"\n",
    "# index_name = \"data\"\n",
    "# mapping = {\n",
    "#     \"mappings\": {\n",
    "#         \"properties\": {\n",
    "#             \"suggestions\": {\n",
    "#                 \"type\": \"completion\"\n",
    "#             }\n",
    "#         }\n",
    "#     }\n",
    "# }\n",
    "# if not index_name:\n",
    "#     es.indices.create(index=index_name, body=mapping)\n",
    "# else:\n",
    "#     es.indices.delete(index=index_name, body=mapping)\n",
    "\n",
    "# # Ajouter des documents à l'index\n",
    "# doc1 = {\"suggestions\": c for c in client}\n",
    "# # doc2 = {\"suggestions\": \"Comment utiliser Python pour l'analyse de données\"}\n",
    "# # doc3 = {\"suggestions\": \"Comment se connecter à une base de données\"}\n",
    "\n",
    "# es.index(index=index_name, body=doc1)\n",
    "# # es.index(index=index_name, body=doc2)\n",
    "# # es.index(index=index_name, body=doc3)\n",
    "\n",
    "\n",
    "# # Effectuer une recherche avec autocomplétion\n",
    "# i = input()\n",
    "# # Préfixe à utiliser pour la suggestion\n",
    "# prefix = \"i\"\n",
    "\n",
    "# # Requête de suggestion d'autocomplétion\n",
    "# query = {\n",
    "#     \"suggest\": {\n",
    "#         \"suggestion\": {\n",
    "#             \"prefix\": i,\n",
    "#             \"completion\": {\n",
    "#                 \"field\": \"suggestions\"\n",
    "#             }\n",
    "#         }\n",
    "#     }\n",
    "# }\n",
    "\n",
    "# res = es.search(index=index_name, body=query)\n",
    "# suggestions = res[\"suggest\"][\"suggestion\"][0][\"options\"]\n",
    "\n",
    "# # Afficher les suggestions\n",
    "# print(\"Suggestions pour la recherche 'com' :\")\n",
    "# for suggestion in suggestions:\n",
    "#     print(suggestion[\"text\"])\n"
   ]
  },
  {
   "cell_type": "code",
   "execution_count": 23,
   "metadata": {},
   "outputs": [
    {
     "name": "stderr",
     "output_type": "stream",
     "text": [
      "/tmp/ipykernel_27387/3206674044.py:1: ElasticsearchWarning: Elasticsearch built-in security features are not enabled. Without authentication, your cluster could be accessible to anyone. See https://www.elastic.co/guide/en/elasticsearch/reference/7.15/security-minimal-setup.html to enable security.\n",
      "  es.indices.delete(index=index_name, body=mapping)\n"
     ]
    },
    {
     "data": {
      "text/plain": [
       "ObjectApiResponse({'acknowledged': True})"
      ]
     },
     "execution_count": 23,
     "metadata": {},
     "output_type": "execute_result"
    }
   ],
   "source": [
    "es.indices.delete(index=index_name, body=mapping)"
   ]
  },
  {
   "cell_type": "code",
   "execution_count": 48,
   "metadata": {},
   "outputs": [
    {
     "name": "stderr",
     "output_type": "stream",
     "text": [
      "/tmp/ipykernel_27387/800899541.py:1: DeprecationWarning: The 'body' parameter is deprecated and will be removed in a future version. Instead use individual parameters.\n",
      "  res = es.search(index='excel-data', body={'query': {\"match_phrase_prefix\": {\"Client\": {\"query\": \"d\"}}}})\n",
      "/tmp/ipykernel_27387/800899541.py:1: ElasticsearchWarning: Elasticsearch built-in security features are not enabled. Without authentication, your cluster could be accessible to anyone. See https://www.elastic.co/guide/en/elasticsearch/reference/7.15/security-minimal-setup.html to enable security.\n",
      "  res = es.search(index='excel-data', body={'query': {\"match_phrase_prefix\": {\"Client\": {\"query\": \"d\"}}}})\n"
     ]
    },
    {
     "ename": "IndexError",
     "evalue": "list index out of range",
     "output_type": "error",
     "traceback": [
      "\u001b[0;31m---------------------------------------------------------------------------\u001b[0m",
      "\u001b[0;31mIndexError\u001b[0m                                Traceback (most recent call last)",
      "Cell \u001b[0;32mIn[48], line 2\u001b[0m\n\u001b[1;32m      1\u001b[0m res \u001b[39m=\u001b[39m es\u001b[39m.\u001b[39msearch(index\u001b[39m=\u001b[39m\u001b[39m'\u001b[39m\u001b[39mexcel-data\u001b[39m\u001b[39m'\u001b[39m, body\u001b[39m=\u001b[39m{\u001b[39m'\u001b[39m\u001b[39mquery\u001b[39m\u001b[39m'\u001b[39m: {\u001b[39m\"\u001b[39m\u001b[39mmatch_phrase_prefix\u001b[39m\u001b[39m\"\u001b[39m: {\u001b[39m\"\u001b[39m\u001b[39mClient\u001b[39m\u001b[39m\"\u001b[39m: {\u001b[39m\"\u001b[39m\u001b[39mquery\u001b[39m\u001b[39m\"\u001b[39m: \u001b[39m\"\u001b[39m\u001b[39md\u001b[39m\u001b[39m\"\u001b[39m}}}})\n\u001b[0;32m----> 2\u001b[0m [res[\u001b[39m'\u001b[39m\u001b[39mhits\u001b[39m\u001b[39m'\u001b[39m][\u001b[39m'\u001b[39m\u001b[39mhits\u001b[39m\u001b[39m'\u001b[39m][i][\u001b[39m'\u001b[39m\u001b[39m_source\u001b[39m\u001b[39m'\u001b[39m] \u001b[39mfor\u001b[39;00m i \u001b[39min\u001b[39;00m \u001b[39mrange\u001b[39m(\u001b[39m9000\u001b[39m)]\n",
      "Cell \u001b[0;32mIn[48], line 2\u001b[0m, in \u001b[0;36m<listcomp>\u001b[0;34m(.0)\u001b[0m\n\u001b[1;32m      1\u001b[0m res \u001b[39m=\u001b[39m es\u001b[39m.\u001b[39msearch(index\u001b[39m=\u001b[39m\u001b[39m'\u001b[39m\u001b[39mexcel-data\u001b[39m\u001b[39m'\u001b[39m, body\u001b[39m=\u001b[39m{\u001b[39m'\u001b[39m\u001b[39mquery\u001b[39m\u001b[39m'\u001b[39m: {\u001b[39m\"\u001b[39m\u001b[39mmatch_phrase_prefix\u001b[39m\u001b[39m\"\u001b[39m: {\u001b[39m\"\u001b[39m\u001b[39mClient\u001b[39m\u001b[39m\"\u001b[39m: {\u001b[39m\"\u001b[39m\u001b[39mquery\u001b[39m\u001b[39m\"\u001b[39m: \u001b[39m\"\u001b[39m\u001b[39md\u001b[39m\u001b[39m\"\u001b[39m}}}})\n\u001b[0;32m----> 2\u001b[0m [res[\u001b[39m'\u001b[39;49m\u001b[39mhits\u001b[39;49m\u001b[39m'\u001b[39;49m][\u001b[39m'\u001b[39;49m\u001b[39mhits\u001b[39;49m\u001b[39m'\u001b[39;49m][i][\u001b[39m'\u001b[39m\u001b[39m_source\u001b[39m\u001b[39m'\u001b[39m] \u001b[39mfor\u001b[39;00m i \u001b[39min\u001b[39;00m \u001b[39mrange\u001b[39m(\u001b[39m9000\u001b[39m)]\n",
      "\u001b[0;31mIndexError\u001b[0m: list index out of range"
     ]
    }
   ],
   "source": [
    "res = es.search(index='excel-data', body={'query': {\"match_phrase_prefix\": {\"Client\": {\"query\": \"d\"}}}})\n",
    "[res['hits']['hits'][i]['_source'] for i in range(9000)]\n"
   ]
  },
  {
   "cell_type": "code",
   "execution_count": null,
   "metadata": {},
   "outputs": [],
   "source": []
  },
  {
   "cell_type": "code",
   "execution_count": null,
   "metadata": {},
   "outputs": [],
   "source": []
  }
 ],
 "metadata": {
  "kernelspec": {
   "display_name": "backend",
   "language": "python",
   "name": "python3"
  },
  "language_info": {
   "codemirror_mode": {
    "name": "ipython",
    "version": 3
   },
   "file_extension": ".py",
   "mimetype": "text/x-python",
   "name": "python",
   "nbconvert_exporter": "python",
   "pygments_lexer": "ipython3",
   "version": "3.10.6"
  },
  "orig_nbformat": 4,
  "vscode": {
   "interpreter": {
    "hash": "ca7d53c18343e772b10ec23a4bdbbc9f0a0e47cc41aef33232f009207c554287"
   }
  }
 },
 "nbformat": 4,
 "nbformat_minor": 2
}
