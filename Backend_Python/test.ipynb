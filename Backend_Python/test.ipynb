{
 "cells": [
  {
   "cell_type": "code",
   "execution_count": 1,
   "metadata": {},
   "outputs": [
    {
     "name": "stdout",
     "output_type": "stream",
     "text": [
      "Collecting elasticsearch\n",
      "  Using cached elasticsearch-8.6.2-py3-none-any.whl (385 kB)\n",
      "Collecting elastic-transport<9,>=8\n",
      "  Using cached elastic_transport-8.4.0-py3-none-any.whl (59 kB)\n",
      "Requirement already satisfied: urllib3<2,>=1.26.2 in /home/dev/airflow/airflow/lib/python3.10/site-packages (from elastic-transport<9,>=8->elasticsearch) (1.26.14)\n",
      "Requirement already satisfied: certifi in /home/dev/airflow/airflow/lib/python3.10/site-packages (from elastic-transport<9,>=8->elasticsearch) (2022.12.7)\n",
      "Installing collected packages: elastic-transport, elasticsearch\n",
      "Successfully installed elastic-transport-8.4.0 elasticsearch-8.6.2\n"
     ]
    }
   ],
   "source": [
    "!pip install elasticsearch"
   ]
  },
  {
   "cell_type": "code",
   "execution_count": 31,
   "metadata": {},
   "outputs": [],
   "source": [
    "from elasticsearch import Elasticsearch\n",
    "\n",
    "# Configurer la connexion à Elasticsearch\n",
    "es = Elasticsearch([{'host': 'localhost', 'port': 9200,'scheme':'http'}])"
   ]
  },
  {
   "cell_type": "code",
   "execution_count": 32,
   "metadata": {},
   "outputs": [
    {
     "name": "stderr",
     "output_type": "stream",
     "text": [
      "/tmp/ipykernel_126236/2877622670.py:1: DeprecationWarning: The 'body' parameter is deprecated and will be removed in a future version. Instead use individual parameters.\n",
      "  res = es.search(index='excel-data', body={'query': {'match_all': {}},'size':10000})\n",
      "/tmp/ipykernel_126236/2877622670.py:1: ElasticsearchWarning: Elasticsearch built-in security features are not enabled. Without authentication, your cluster could be accessible to anyone. See https://www.elastic.co/guide/en/elasticsearch/reference/7.15/security-minimal-setup.html to enable security.\n",
      "  res = es.search(index='excel-data', body={'query': {'match_all': {}},'size':10000})\n"
     ]
    }
   ],
   "source": [
    "res = es.search(index='excel-data', body={'query': {'match_all': {}},'size':10000})\n",
    "hits = res['hits']['hits']\n",
    "count = [hits[i]['_source']['Article'] for i in range(len(hits)-1)]\n",
    "\n",
    "unique = list(dict.fromkeys(count))\n"
   ]
  },
  {
   "cell_type": "code",
   "execution_count": 33,
   "metadata": {},
   "outputs": [
    {
     "name": "stdout",
     "output_type": "stream",
     "text": [
      "===========> 4\n",
      "??????????????????? 525\n"
     ]
    }
   ],
   "source": [
    "hits = res['hits']['hits']\n",
    "count1 = [hits[i]['_source']['Client'] for i in range(len(hits)-1)]\n",
    "# count = [hits[i]['_source']['Article'] for i in range(len(hits)-1)]\n",
    "# count = [hits[i]['_source']['Article'] for i in range(len(hits)-1)]\n",
    "\n",
    "\n",
    "unique = list(dict.fromkeys(count))\n",
    "unique1 = list(dict.fromkeys(count1))\n",
    "unique=len(unique)\n",
    "print('===========>',unique)\n",
    "client=len(unique1)\n",
    "print('???????????????????',client)"
   ]
  },
  {
   "cell_type": "code",
   "execution_count": 37,
   "metadata": {},
   "outputs": [
    {
     "data": {
      "text/plain": [
       "1259916.88"
      ]
     },
     "execution_count": 37,
     "metadata": {},
     "output_type": "execute_result"
    }
   ],
   "source": [
    "count1 = [hits[i]['_source']['Chiffre d\\'affaire'] for i in range(len(hits)-1)]\n",
    "count1\n",
    "entiers = list(map(float, map(float,map(float, [x.replace(',', '.') for x in count1]))))\n",
    "round(sum(entiers),2)"
   ]
  },
  {
   "cell_type": "code",
   "execution_count": null,
   "metadata": {},
   "outputs": [],
   "source": []
  }
 ],
 "metadata": {
  "kernelspec": {
   "display_name": "airflow",
   "language": "python",
   "name": "python3"
  },
  "language_info": {
   "codemirror_mode": {
    "name": "ipython",
    "version": 3
   },
   "file_extension": ".py",
   "mimetype": "text/x-python",
   "name": "python",
   "nbconvert_exporter": "python",
   "pygments_lexer": "ipython3",
   "version": "3.10.6"
  },
  "orig_nbformat": 4,
  "vscode": {
   "interpreter": {
    "hash": "5ab24052685099ab658e35120d948e503348692e475f897343cea8c1b1fafe3a"
   }
  }
 },
 "nbformat": 4,
 "nbformat_minor": 2
}
